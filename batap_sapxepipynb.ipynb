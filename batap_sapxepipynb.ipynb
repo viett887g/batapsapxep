{
  "nbformat": 4,
  "nbformat_minor": 0,
  "metadata": {
    "colab": {
      "name": "batap sapxepipynb",
      "provenance": [],
      "authorship_tag": "ABX9TyOU5/kWAqWRJGcE8d49Hsqf",
      "include_colab_link": true
    },
    "kernelspec": {
      "name": "python3",
      "display_name": "Python 3"
    },
    "language_info": {
      "name": "python"
    }
  },
  "cells": [
    {
      "cell_type": "markdown",
      "metadata": {
        "id": "view-in-github",
        "colab_type": "text"
      },
      "source": [
        "<a href=\"https://colab.research.google.com/github/viett887g/batapsapxep/blob/main/batap_sapxepipynb.ipynb\" target=\"_parent\"><img src=\"https://colab.research.google.com/assets/colab-badge.svg\" alt=\"Open In Colab\"/></a>"
      ]
    },
    {
      "cell_type": "code",
      "metadata": {
        "id": "_tXqWE9W50d8"
      },
      "source": [
        "Bài 1: Viết chương trình nhập vào từ bàn phím một danh sách gồm 10 số nguyên và thực hiện các\n",
        "yêu cầu sau:\n",
        "- Sắp xếp danh sách trên theo chiều tăng dần\n",
        "- In kết quả ra màn hình"
      ],
      "execution_count": null,
      "outputs": []
    },
    {
      "cell_type": "code",
      "metadata": {
        "colab": {
          "base_uri": "https://localhost:8080/"
        },
        "id": "f4wdSEFk3ZOr",
        "outputId": "7a96c994-10c1-4d61-ebd0-e8a5f133222b"
      },
      "source": [
        "\n",
        "a=[int(x) for x in input().split()]\n",
        "a= sorted(a)\n",
        "print(a)"
      ],
      "execution_count": null,
      "outputs": [
        {
          "output_type": "stream",
          "name": "stdout",
          "text": [
            "2 4 5 1 3 6 9 7 12 13 11\n",
            "[1, 2, 3, 4, 5, 6, 7, 9, 11, 12, 13]\n"
          ]
        }
      ]
    },
    {
      "cell_type": "code",
      "metadata": {
        "id": "qJtyHDIx53Bq"
      },
      "source": [
        "Bài 2: Viết chương trình thực hiện các yêu cầu sau:\n",
        "- Xây dựng hàm có tên nhap_danh_sach_so_nguyen(n), trong đó:\n",
        "o Tham số đầu vào n là số phần tử của danh sách;\n",
        "o Hàm này trả về một danh sách gồm n số nguyên được nhập vào từ bàn phím"
      ],
      "execution_count": null,
      "outputs": []
    },
    {
      "cell_type": "code",
      "metadata": {
        "id": "Mj4ONd5u56uU",
        "colab": {
          "base_uri": "https://localhost:8080/"
        },
        "outputId": "2f81b3af-c9f5-4428-9e1c-13e87c4b4a71"
      },
      "source": [
        "b=[]\n",
        "n=int(input(\"bạn muốn nhập bao nhiêu số:\"))\n",
        "def nhap_danh_sach_so_nguyen(n):\n",
        "  for i in range(n):\n",
        "    print(\"số thứ \",i+1)\n",
        "    b.append(int(input()))\n",
        "nhap_danh_sach_so_nguyen(n)\n",
        "\n",
        "\n",
        "\n",
        " "
      ],
      "execution_count": 41,
      "outputs": [
        {
          "name": "stdout",
          "output_type": "stream",
          "text": [
            "bạn muốn nhập bao nhiêu số:5\n",
            "số thứ  1\n",
            "2\n",
            "số thứ  2\n",
            "23\n",
            "số thứ  3\n",
            "3\n",
            "số thứ  4\n",
            "16\n",
            "số thứ  5\n",
            "11\n"
          ]
        }
      ]
    },
    {
      "cell_type": "code",
      "metadata": {
        "colab": {
          "base_uri": "https://localhost:8080/"
        },
        "id": "RG_-ws7l-dYN",
        "outputId": "86283d29-03c4-4ed4-9556-c8342394da98"
      },
      "source": [
        "c=[]\n",
        "x=int(input(\"bạn muốn nhập bao nhiêu số:\"))\n",
        "def sap_xep_danh_sach(x):\n",
        "  for i in range(x):\n",
        "    print(\"số thứ \",i+1)\n",
        "    c.append(int(input()))\n",
        "sap_xep_danh_sach(x)\n",
        "c=sorted(c)\n",
        "print(c)\n"
      ],
      "execution_count": 51,
      "outputs": [
        {
          "output_type": "stream",
          "name": "stdout",
          "text": [
            "bạn muốn nhập bao nhiêu số:3\n",
            "số thứ  1\n",
            "2\n",
            "số thứ  2\n",
            "5\n",
            "số thứ  3\n",
            "1\n",
            "[1, 2, 5]\n"
          ]
        }
      ]
    },
    {
      "cell_type": "code",
      "metadata": {
        "id": "pWQyLHShCgfu"
      },
      "source": [
        "Viết chương trình nhập vào từ bàn phím một danh sách các số thực, theo các yeu cầu sau:\n",
        "- Sau khi nhập mỗi số thực từ bàn phím, chương trình hỏi người dùng có muốn tiếp tục nhập\n",
        "không. Nếu người dùng gõ ký tự n hoặc N thì kết thúc quá trình nhập;\n",
        "- Sắp xếp danh sách các số thực tren theo chiều giảm dần;\n",
        "- In kết quả ra màn hình."
      ],
      "execution_count": null,
      "outputs": []
    },
    {
      "cell_type": "code",
      "metadata": {
        "colab": {
          "base_uri": "https://localhost:8080/"
        },
        "id": "Q0wxEhOVCk0u",
        "outputId": "9e9ee969-9bfa-47b1-e214-e22b112a4d8e"
      },
      "source": [
        "n = \"z\"\n",
        "lit = []\n",
        "while n == \"z\":\n",
        "  lit.append(input(\"nhap số bất kì\"))\n",
        "  print(\"nhập n để dừng chương trình\")\n",
        "  a = input(\"n =\")\n",
        "  if a == \"n\" or a ==\"N\":\n",
        "    break\n",
        "\n",
        "print(lit)\n",
        "  "
      ],
      "execution_count": 79,
      "outputs": [
        {
          "output_type": "stream",
          "name": "stdout",
          "text": [
            "nhap số bất kì12\n",
            "nhập n để dừng chương trình\n",
            "n =k\n",
            "nhap số bất kì10\n",
            "nhập n để dừng chương trình\n",
            "n =7\n",
            "nhap số bất kì4\n",
            "nhập n để dừng chương trình\n",
            "n =n\n",
            "['12', '10', '4']\n"
          ]
        }
      ]
    },
    {
      "cell_type": "code",
      "metadata": {
        "id": "Vc19lqnBI--5"
      },
      "source": [
        "Xây dựng hàm nhap_danh_sach_so_thuc( ) thỏa mãn các yêu cầu sau:\n",
        "o Sau khi nhập mỗi số thực từ bàn phím, chương trình hỏi người dùng có muốn tiếp\n",
        "tục nhập không. Nếu người dùng gõ ký tự n hoặc N thì kết thúc quá trình nhập;\n",
        "o Hàm trả về danh sách các số thực đã nhập.\n",
        "Xây dựng hàm sap_xep_danh_sach_so_thuc(x), với:\n",
        "o Tham số đầu vào x là một danh sách các số thực;\n",
        "o Hàm này trả về một danh sách các số thực được sắp xếp theo chiều giảm dần"
      ],
      "execution_count": null,
      "outputs": []
    },
    {
      "cell_type": "code",
      "metadata": {
        "colab": {
          "base_uri": "https://localhost:8080/"
        },
        "id": "d7flWGabJRSI",
        "outputId": "4d9f8edb-1588-4eb0-8358-9822e9234579"
      },
      "source": [
        "l=\"m\"\n",
        "k=[]\n",
        "while l==\"m\":\n",
        "  k.append(input(\"nhap vao so thực\"))\n",
        "  f= input(\"nếu nhập N hay n thì chương trình sẽ dừng lại\")\n",
        "  if f== \"n\" or f==\"N\":\n",
        "   break\n",
        "print(k)\n",
        "\n"
      ],
      "execution_count": 103,
      "outputs": [
        {
          "output_type": "stream",
          "name": "stdout",
          "text": [
            "nhap vao so thực14\n",
            "nếu nhập N hay n thì chương trình sẽ dừng lạir\n",
            "nhap vao so thực12\n",
            "nếu nhập N hay n thì chương trình sẽ dừng lạik\n",
            "nhap vao so thực5\n",
            "nếu nhập N hay n thì chương trình sẽ dừng lạin\n",
            "['14', '12', '5']\n"
          ]
        }
      ]
    },
    {
      "cell_type": "code",
      "metadata": {
        "colab": {
          "base_uri": "https://localhost:8080/"
        },
        "id": "d92s_D6UM_YL",
        "outputId": "e20dc140-b86b-4455-eb9b-886787c3e039"
      },
      "source": [
        "l=\"m\"\n",
        "k=[]\n",
        "while l==\"m\":\n",
        "  k.append(input(\"nhap vao so thực\"))\n",
        "  f= input(\"nếu nhập N hay n thì chương trình sẽ dừng lại\")\n",
        "  if f== \"n\" or f==\"N\":\n",
        "   break\n",
        "k.sort()\n",
        "print(k)"
      ],
      "execution_count": 110,
      "outputs": [
        {
          "output_type": "stream",
          "name": "stdout",
          "text": [
            "nhap vao so thực13\n",
            "nếu nhập N hay n thì chương trình sẽ dừng lạit\n",
            "nhap vao so thực14\n",
            "nếu nhập N hay n thì chương trình sẽ dừng lạik\n",
            "nhap vao so thực11\n",
            "nếu nhập N hay n thì chương trình sẽ dừng lạin\n",
            "['11', '13', '14']\n"
          ]
        }
      ]
    },
    {
      "cell_type": "code",
      "metadata": {
        "id": "qh-VxtIJPV4-"
      },
      "source": [
        "Sinh ngẫu nhiên 1 danh sách số nguyên gồm n phần tử. Trong đó, n được nhập vào từ bàn\n",
        "phím và số nguyên sinh ra nằm trong khoảng từ 0 đến max_value. Giá trị max_value được\n",
        "nhập vào từ bàn phím;\n",
        "- Hỏi người dùng lựa chọn sắp xếp danh sách trên theo chiều tăng dần hay giảm dần và sắp\n",
        "xếp danh sách theo lựa chọn của người dùng;\n",
        "- In kết quả sắp xếp ra màn hình."
      ],
      "execution_count": null,
      "outputs": []
    },
    {
      "cell_type": "code",
      "metadata": {
        "colab": {
          "base_uri": "https://localhost:8080/"
        },
        "id": "50H8Ay6FPZ40",
        "outputId": "62d8e064-9791-4038-d741-e8445817fe3b"
      },
      "source": [
        "a=[int(x) for x in input().split()]\n",
        "print(a)\n",
        "chon= int(input(\"nhập 1 để tăng dần 2 để giảm dần\"))\n",
        "if chon==1:\n",
        "  a= sorted(a)\n",
        "  print(a)\n",
        "elif chon == 2:\n",
        "  a.sort()\n",
        "  print(a)"
      ],
      "execution_count": 113,
      "outputs": [
        {
          "output_type": "stream",
          "name": "stdout",
          "text": [
            "1 13 11 41 22 42 15\n",
            "[1, 13, 11, 41, 22, 42, 15]\n",
            "nhập 1 để tăng dần 2 để giảm dần1\n",
            "[1, 11, 13, 15, 22, 41, 42]\n"
          ]
        }
      ]
    },
    {
      "cell_type": "code",
      "metadata": {
        "id": "T1LgM7H6Qo-u"
      },
      "source": [
        "Xây dựng hàm sinh_ngau_nhien_danh_sach_so_nguyen( ), thực hiện các thao tác sau:\n",
        "o Sinh ngẫu nhiên 1 danh sách số nguyên gồm n phần tử;\n",
        "o Trong đó, n được nhập vào từ bàn phím và số nguyên sinh ra nằm trong khoảng từ\n",
        "0 đến max_value;\n",
        "o Giá trị max_value được nhập vào từ bàn phím;\n",
        "o Hàm này trả về danh sách các số nguyên được sinh ngẫu nhiên ở trên.\n",
        "- Xây dựng hàm sap_xep_giam_dan(x), trong đó:\n",
        "o Tham số đầu vào x là một danh sách các số nguyên;\n",
        "o Hàm này trả về một danh sách các số nguyên được sắp xếp theo chiều giảm dần.\n",
        "- Xây dựng hàm sap_xep_tang_dan(x), trong đó:\n",
        "o Tham số đầu vào x là một danh sách các số nguyên;\n",
        "o Hàm này trả về một danh sách các số nguyên được sắp xếp theo chiều tăng dần.\n",
        "- Chương trình chính (__main__) gọi thực hiện các hàm trên và in kết quả ra màn hình."
      ],
      "execution_count": null,
      "outputs": []
    },
    {
      "cell_type": "code",
      "metadata": {
        "colab": {
          "base_uri": "https://localhost:8080/"
        },
        "id": "uuKC4AOdQ34b",
        "outputId": "996994c9-ee07-4a4c-f59d-ac7a12b9346f"
      },
      "source": [
        "a=[int(x) for x in input().split()]\n",
        "def sinh_ngau_nhien_danh_sach_so_nguyen( ):\n",
        "  print(a)\n",
        "sinh_ngau_nhien_danh_sach_so_nguyen( )\n"
      ],
      "execution_count": 114,
      "outputs": [
        {
          "output_type": "stream",
          "name": "stdout",
          "text": [
            "1 31 41 11 24 114\n",
            "[1, 31, 41, 11, 24, 114]\n"
          ]
        }
      ]
    },
    {
      "cell_type": "code",
      "metadata": {
        "colab": {
          "base_uri": "https://localhost:8080/"
        },
        "id": "MROUB1EuRM_P",
        "outputId": "39ef3592-f321-4cff-83ab-bbf757b979dd"
      },
      "source": [
        "a=[int(x) for x in input().split()]\n",
        "def sap_xep_giam_dan(x):\n",
        " a.sort()\n",
        " print(a)\n",
        "sap_xep_giam_dan(x)"
      ],
      "execution_count": 119,
      "outputs": [
        {
          "output_type": "stream",
          "name": "stdout",
          "text": [
            "12 11 41 21 56 1 \n",
            "[1, 11, 12, 21, 41, 56]\n"
          ]
        }
      ]
    },
    {
      "cell_type": "code",
      "metadata": {
        "colab": {
          "base_uri": "https://localhost:8080/"
        },
        "id": "RsZK_TP2RzVb",
        "outputId": "d1e000ca-f8bc-47da-9535-bf76ab70254e"
      },
      "source": [
        "a=[int(x) for x in input().split()]\n",
        "a= sorted(a)\n",
        "def sap_xep_tang_dan(x):\n",
        "  print(a)\n",
        "sap_xep_tang_dan(x)"
      ],
      "execution_count": 125,
      "outputs": [
        {
          "output_type": "stream",
          "name": "stdout",
          "text": [
            "12 41 51 6 16 12 1\n",
            "[1, 6, 12, 12, 16, 41, 51]\n"
          ]
        }
      ]
    }
  ]
}